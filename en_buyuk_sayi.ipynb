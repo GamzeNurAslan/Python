{
  "nbformat": 4,
  "nbformat_minor": 0,
  "metadata": {
    "colab": {
      "provenance": []
    },
    "kernelspec": {
      "name": "python3",
      "display_name": "Python 3"
    },
    "language_info": {
      "name": "python"
    }
  },
  "cells": [
    {
      "cell_type": "code",
      "execution_count": 7,
      "metadata": {
        "colab": {
          "base_uri": "https://localhost:8080/"
        },
        "id": "ZQXh_zbmB_UV",
        "outputId": "348039da-5cb1-496d-d9fe-c212cdf25fe8"
      },
      "outputs": [
        {
          "output_type": "stream",
          "name": "stdout",
          "text": [
            "Bir sayı girin (bitirmek için 'q' tuşlayın): 1\n",
            "Bir sayı girin (bitirmek için 'q' tuşlayın): 2\n",
            "Bir sayı girin (bitirmek için 'q' tuşlayın): 45\n",
            "Bir sayı girin (bitirmek için 'q' tuşlayın): 7\n",
            "Bir sayı girin (bitirmek için 'q' tuşlayın): q\n",
            "Girilen sayılar arasındaki en büyük sayı: 45\n"
          ]
        }
      ],
      "source": [
        "def en_buyuk_sayi(liste):\n",
        "    if not liste:\n",
        "        return None\n",
        "\n",
        "    en_buyuk = liste[0]\n",
        "    for sayi in liste:\n",
        "        if sayi > en_buyuk:\n",
        "            en_buyuk = sayi\n",
        "    return en_buyuk\n",
        "\n",
        "sayi_listesi = []\n",
        "while True:\n",
        "    sayi = input(\"Bir sayı girin (bitirmek için 'q' tuşlayın): \")\n",
        "    if sayi == 'q':\n",
        "        break\n",
        "    try:\n",
        "        sayi_listesi.append(int(sayi))\n",
        "    except ValueError:\n",
        "        print(\"Geçersiz giriş, lütfen bir sayı girin.\")\n",
        "\n",
        "if sayi_listesi:\n",
        "    print(f\"Girilen sayılar arasındaki en büyük sayı: {en_buyuk_sayi(sayi_listesi)}\")\n",
        "else:\n",
        "    print(\"Hiç sayı girilmedi!\")\n"
      ]
    }
  ]
}