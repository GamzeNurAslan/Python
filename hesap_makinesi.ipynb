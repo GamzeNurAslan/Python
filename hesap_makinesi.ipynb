{
  "nbformat": 4,
  "nbformat_minor": 0,
  "metadata": {
    "colab": {
      "provenance": []
    },
    "kernelspec": {
      "name": "python3",
      "display_name": "Python 3"
    },
    "language_info": {
      "name": "python"
    }
  },
  "cells": [
    {
      "cell_type": "code",
      "source": [
        "def hesap_makinesi():\n",
        "    print(\"İşlem Seçin: +, -, *, /\")\n",
        "    islem = input(\"İşlem: \")\n",
        "\n",
        "    if islem not in ['+', '-', '*', '/']:\n",
        "        print(\"Geçersiz işlem.\")\n",
        "        return\n",
        "\n",
        "    try:\n",
        "        sayi1 = float(input(\"Birinci sayıyı girin: \"))\n",
        "        sayi2 = float(input(\"İkinci sayıyı girin: \"))\n",
        "    except ValueError:\n",
        "        print(\"Geçersiz giriş. Lütfen sayıları doğru girin.\")\n",
        "        return\n",
        "\n",
        "    if islem == '+':\n",
        "        print(f\"Sonuç: {sayi1 + sayi2}\")\n",
        "    elif islem == '-':\n",
        "        print(f\"Sonuç: {sayi1 - sayi2}\")\n",
        "    elif islem == '*':\n",
        "        print(f\"Sonuç: {sayi1 * sayi2}\")\n",
        "    elif islem == '/':\n",
        "        if sayi2 == 0:\n",
        "            print(\"Bölme hatası: Sıfıra bölme.\")\n",
        "        else:\n",
        "            print(f\"Sonuç: {sayi1 / sayi2}\")\n",
        "\n",
        "hesap_makinesi()\n",
        "\n"
      ],
      "metadata": {
        "colab": {
          "base_uri": "https://localhost:8080/"
        },
        "id": "QtcGfvm1FNeW",
        "outputId": "86823db0-8a44-40f9-d03a-fe2887cf27f7"
      },
      "execution_count": 5,
      "outputs": [
        {
          "output_type": "stream",
          "name": "stdout",
          "text": [
            "İşlem Seçin: +, -, *, /\n",
            "İşlem: +\n",
            "Birinci sayıyı girin: 80\n",
            "İkinci sayıyı girin: 27\n",
            "Sonuç: 107.0\n"
          ]
        }
      ]
    }
  ]
}