{
  "nbformat": 4,
  "nbformat_minor": 0,
  "metadata": {
    "colab": {
      "provenance": []
    },
    "kernelspec": {
      "name": "python3",
      "display_name": "Python 3"
    },
    "language_info": {
      "name": "python"
    }
  },
  "cells": [
    {
      "cell_type": "code",
      "source": [
        "\"\"\"Veri Dönüştürme: Ayrıklaştırma ve Binning\"\"\"\n",
        "import pandas as pd\n",
        "import numpy as np\n",
        "\n",
        "data = {\n",
        "    'continuous_column': [1.5, 2.3, 5.7, 7.9, 3.6, 4.4, 6.1, 8.5, 9.2]\n",
        "}\n",
        "\n",
        "df = pd.DataFrame(data)\n",
        "df['binned_column'] = pd.cut(df['continuous_column'], bins=3, labels=[\"Low\", \"Medium\", \"High\"])\n",
        "\n",
        "print(\"Orijinal sürekli değerler:\")\n",
        "print(df['continuous_column'])\n",
        "\n",
        "print(\"Binned:\")\n",
        "print(df[['continuous_column', 'binned_column']])"
      ],
      "metadata": {
        "id": "s5RDy_6iF4s-",
        "colab": {
          "base_uri": "https://localhost:8080/"
        },
        "outputId": "4bf2f203-350e-4c94-c62e-5b7afae3f024"
      },
      "execution_count": null,
      "outputs": [
        {
          "output_type": "stream",
          "name": "stdout",
          "text": [
            "Orijinal sürekli değerler:\n",
            "0    1.5\n",
            "1    2.3\n",
            "2    5.7\n",
            "3    7.9\n",
            "4    3.6\n",
            "5    4.4\n",
            "6    6.1\n",
            "7    8.5\n",
            "8    9.2\n",
            "Name: continuous_column, dtype: float64\n",
            "Binned:\n",
            "   continuous_column binned_column\n",
            "0                1.5           Low\n",
            "1                2.3           Low\n",
            "2                5.7        Medium\n",
            "3                7.9          High\n",
            "4                3.6           Low\n",
            "5                4.4        Medium\n",
            "6                6.1        Medium\n",
            "7                8.5          High\n",
            "8                9.2          High\n"
          ]
        }
      ]
    },
    {
      "cell_type": "code",
      "source": [
        "\"\"\"Veri Dönüştürme: Polinomial Dönüşümler\"\"\"\n",
        "import pandas as pd\n",
        "from sklearn.preprocessing import PolynomialFeatures\n",
        "\n",
        "data = {\n",
        "    'feature': [2, 4, 6, 8, 10]\n",
        "}\n",
        "df = pd.DataFrame(data)\n",
        "\n",
        "poly = PolynomialFeatures(degree=2)\n",
        "\n",
        "# Dönüştürme işlemi\n",
        "df_poly = poly.fit_transform(df[['feature']])\n",
        "\n",
        "# DataFrame oluşturma\n",
        "df_poly = pd.DataFrame(df_poly, columns=['1', 'feature', 'feature^2'])\n",
        "\n",
        "print(df_poly)\n"
      ],
      "metadata": {
        "colab": {
          "base_uri": "https://localhost:8080/"
        },
        "id": "S4SpBYJ7gVSW",
        "outputId": "96532281-9f04-4de7-b50c-467b4864df9a"
      },
      "execution_count": null,
      "outputs": [
        {
          "output_type": "stream",
          "name": "stdout",
          "text": [
            "     1  feature  feature^2\n",
            "0  1.0      2.0        4.0\n",
            "1  1.0      4.0       16.0\n",
            "2  1.0      6.0       36.0\n",
            "3  1.0      8.0       64.0\n",
            "4  1.0     10.0      100.0\n"
          ]
        }
      ]
    },
    {
      "cell_type": "code",
      "source": [
        "import pandas as pd\n",
        "\n",
        "# Örnek DataFrame\n",
        "data = {\n",
        "    'first_name': ['Gamze', 'Nur'],\n",
        "    'last_name': ['Aslan', 'Gunes'],\n",
        "    'date': ['2023-10-01', '2024-01-15']\n",
        "}\n",
        "df = pd.DataFrame(data)\n",
        "\n",
        "# 'date' kolonunu datetime formatına çevirme\n",
        "df['date'] = pd.to_datetime(df['date'])\n",
        "\n",
        "# Yeni kolonları oluşturma\n",
        "df['full_name'] = df['first_name'] + ' ' + df['last_name']\n",
        "df['year'] = df['date'].dt.year\n",
        "df['month'] = df['date'].dt.month\n",
        "df['day'] = df['date'].dt.day\n",
        "\n",
        "print(df)\n"
      ],
      "metadata": {
        "colab": {
          "base_uri": "https://localhost:8080/"
        },
        "id": "5aDBT5Q1gc0D",
        "outputId": "7130da85-ec07-49c2-90b1-68bfd9c8d772"
      },
      "execution_count": null,
      "outputs": [
        {
          "output_type": "stream",
          "name": "stdout",
          "text": [
            "  first_name last_name       date    full_name  year  month  day\n",
            "0      Gamze     Aslan 2023-10-01  Gamze Aslan  2023     10    1\n",
            "1        Nur     Gunes 2024-01-15    Nur Gunes  2024      1   15\n"
          ]
        }
      ]
    },
    {
      "cell_type": "code",
      "source": [
        "import pandas as pd\n",
        "from sklearn.linear_model import LinearRegression\n",
        "from sklearn.impute import SimpleImputer\n",
        "\n",
        "# Örnek veri\n",
        "data = {\n",
        "    'feature1': [1, 2, None, 4],\n",
        "    'feature2': [5, None, 7, 8],\n",
        "    'target': [1, None, 3, 4]\n",
        "}\n",
        "df = pd.DataFrame(data)\n",
        "\n",
        "# Eksik değerlerin tamamlanması\n",
        "imputer = SimpleImputer(strategy='mean')\n",
        "df[['feature1', 'feature2']] = imputer.fit_transform(df[['feature1', 'feature2']])\n",
        "\n",
        "print(\"Eksik değerler doldurulduktan sonraki orijinal veri seti:\")\n",
        "print(df)\n",
        "\n",
        "# Modelin oluşturulması\n",
        "model = LinearRegression()\n",
        "\n",
        "# target için eksik olanları bırak\n",
        "df_train = df.dropna(subset=['target'])\n",
        "\n",
        "# Modeli eğit\n",
        "model.fit(df_train[['feature1', 'feature2']], df_train['target'])\n",
        "\n",
        "# Tahmin yap\n",
        "predicted_values = model.predict(df[['feature1', 'feature2']])\n",
        "\n",
        "# Tahmin edilen değerleri eksik olan target'lara doldur\n",
        "df['target'].fillna(pd.Series(predicted_values, index=df.index), inplace=True)\n",
        "\n",
        "print(\"Doldurulmuş veri seti:\")\n",
        "print(df)"
      ],
      "metadata": {
        "colab": {
          "base_uri": "https://localhost:8080/"
        },
        "id": "tQHPNCs-sqSv",
        "outputId": "e4252227-7ccc-4603-a22a-650d19495c10"
      },
      "execution_count": null,
      "outputs": [
        {
          "output_type": "stream",
          "name": "stdout",
          "text": [
            "Eksik değerler doldurulduktan sonraki orijinal veri seti:\n",
            "   feature1  feature2  target\n",
            "0  1.000000  5.000000     1.0\n",
            "1  2.000000  6.666667     NaN\n",
            "2  2.333333  7.000000     3.0\n",
            "3  4.000000  8.000000     4.0\n",
            "Doldurulmuş veri seti:\n",
            "   feature1  feature2    target\n",
            "0  1.000000  5.000000  1.000000\n",
            "1  2.000000  6.666667  2.666667\n",
            "2  2.333333  7.000000  3.000000\n",
            "3  4.000000  8.000000  4.000000\n"
          ]
        },
        {
          "output_type": "stream",
          "name": "stderr",
          "text": [
            "<ipython-input-18-16791fde01ff>:33: FutureWarning: A value is trying to be set on a copy of a DataFrame or Series through chained assignment using an inplace method.\n",
            "The behavior will change in pandas 3.0. This inplace method will never work because the intermediate object on which we are setting values always behaves as a copy.\n",
            "\n",
            "For example, when doing 'df[col].method(value, inplace=True)', try using 'df.method({col: value}, inplace=True)' or df[col] = df[col].method(value) instead, to perform the operation inplace on the original object.\n",
            "\n",
            "\n",
            "  df['target'].fillna(pd.Series(predicted_values, index=df.index), inplace=True)\n"
          ]
        }
      ]
    },
    {
      "cell_type": "code",
      "source": [
        "\"\"\"Temel Görüntü Artırma Teknikleri\"\"\"\n",
        "import torchvision.transforms as transforms\n",
        "from PIL import Image\n",
        "\n",
        "# Örnek bir görüntü açma\n",
        "image = Image.open('https://i.pinimg.com/736x/39/35/3d/39353d2ff73169bd183b6585e27e6a52.jpg')  # Burada görüntünün yolunu belirtin\n",
        "\n",
        "# Dönüşümler\n",
        "transform = transforms.Compose([\n",
        "    transforms.RandomHorizontalFlip(),\n",
        "    transforms.RandomRotation(10),\n",
        "    transforms.RandomResizedCrop(224),\n",
        "    transforms.ToTensor()\n",
        "])\n",
        "\n",
        "# Görüntüye dönüşümleri uygula\n",
        "transformed_image = transform(image)\n",
        "\n",
        "# Görüntü boyutunu kontrol et\n",
        "print(transformed_image.size())\n"
      ],
      "metadata": {
        "id": "uQ9aDknKPHXP"
      },
      "execution_count": null,
      "outputs": []
    },
    {
      "cell_type": "code",
      "source": [
        "\"\"\"Renk Tabanlı Artırma Teknikleri\"\"\"\n",
        "import torchvision.transforms as transforms\n",
        "from PIL import Image\n",
        "\n",
        "# Örnek bir görüntü açma\n",
        "image = Image.open('path/to/your/image.jpg')  # Burada görüntünün yolunu belirtin\n",
        "\n",
        "# Renk tabanlı artırma\n",
        "transform = transforms.ColorJitter(brightness=0.2, contrast=0.2, saturation=0.2)\n",
        "\n",
        "# Görüntüye dönüşümü uygula\n",
        "transformed_image = transform(image)\n",
        "\n",
        "# Görüntü boyutunu kontrol et (veya görüntüyü göster)\n",
        "transformed_image.show()\n"
      ],
      "metadata": {
        "id": "1PGaJcPbQP_r"
      },
      "execution_count": null,
      "outputs": []
    },
    {
      "cell_type": "code",
      "source": [
        "\"\"\"Geometrik Dönüşümler\"\"\"\n",
        "import torchvision.transforms as transforms\n",
        "from PIL import Image\n",
        "\n",
        "# Örnek bir görüntü açma\n",
        "image = Image.open('path/to/your/image.jpg')  # Burada görüntünün yolunu belirtin\n",
        "\n",
        "# Geometrik dönüşümler\n",
        "transform = transforms.RandomAffine(degrees=30, translate=(0.1, 0.1))\n",
        "\n",
        "# Görüntüye dönüşümü uygula\n",
        "transformed_image = transform(image)\n",
        "\n",
        "# Dönüştürülmüş görüntüyü göster\n",
        "transformed_image.show()\n"
      ],
      "metadata": {
        "id": "GeesPAkrQayr"
      },
      "execution_count": null,
      "outputs": []
    },
    {
      "cell_type": "code",
      "source": [
        "\"\"\"İleri Teknikler için Kod Örneği\"\"\"\n",
        "import torch\n",
        "from torchvision import transforms\n",
        "from PIL import Image\n",
        "\n",
        "# Örnek bir görüntü açma\n",
        "image = Image.open('path/to/your/image.jpg')  # Burada görüntünün yolunu belirtin\n",
        "\n",
        "# Dönüşümler\n",
        "transform = transforms.Compose([\n",
        "    transforms.RandomHorizontalFlip(),\n",
        "    transforms.RandomRotation(20),\n",
        "    transforms.RandomErasing(p=0.3, scale=(0.02, 0.1), ratio=(0.3, 3.3)),\n",
        "    transforms.ToTensor()  # Virgül eklendi\n",
        "])\n",
        "\n",
        "# Görüntü artırma uygulaması\n",
        "transformed_image = transform(image)\n",
        "\n",
        "# Dönüştürülmüş görüntüyü göster\n",
        "transformed_image.show()\n"
      ],
      "metadata": {
        "id": "n4sVDG2hRnPM"
      },
      "execution_count": null,
      "outputs": []
    },
    {
      "cell_type": "code",
      "source": [
        "#Python kodu ile ortalama, medyan ve mod hesaplama:\n",
        "import numpy as np\n",
        "data = [10,20,20,40,50]\n",
        "mean = np.mean(data)\n",
        "median = np.median(data)\n",
        "from scipy import stats\n",
        "mode = stats.mode(data)\n",
        "print(f\"Ortalama: {mean}, Medyan: {median}, Mod: {mode}\")"
      ],
      "metadata": {
        "id": "4cWlsfFYVmax",
        "colab": {
          "base_uri": "https://localhost:8080/"
        },
        "outputId": "2b6a4132-03d9-4688-f5cd-dad95010c605"
      },
      "execution_count": 1,
      "outputs": [
        {
          "output_type": "stream",
          "name": "stdout",
          "text": [
            "Ortalama: 28.0, Medyan: 20.0, Mod: ModeResult(mode=20, count=2)\n"
          ]
        }
      ]
    },
    {
      "cell_type": "code",
      "source": [
        "#Python kodu ile varyans ve standart sapma hesaplama:\n",
        "import numpy as np\n",
        "data = [10,20,20,40,50]\n",
        "std_dev = np.std(data)\n",
        "variance = np.var(data)\n",
        "print(f\"Varyans: {variance}, Standart Sapma: {std_dev}\")"
      ],
      "metadata": {
        "colab": {
          "base_uri": "https://localhost:8080/"
        },
        "id": "_frDV_UApObi",
        "outputId": "6c112dce-0f95-474e-f0c1-f3cde89b3758"
      },
      "execution_count": 2,
      "outputs": [
        {
          "output_type": "stream",
          "name": "stdout",
          "text": [
            "Varyans: 216.0, Standart Sapma: 14.696938456699069\n"
          ]
        }
      ]
    },
    {
      "cell_type": "code",
      "source": [
        "#histogram-KDE(Kernel Density Estimation)\n",
        "import matplotlib.pyplot as plt\n",
        "import seaborn as sns\n",
        "sns.histplot(data, kde=True)\n",
        "plt.show()"
      ],
      "metadata": {
        "colab": {
          "base_uri": "https://localhost:8080/",
          "height": 430
        },
        "id": "YrC8bb6qp5hZ",
        "outputId": "96083894-6783-4e24-c14f-f52d53dcc786"
      },
      "execution_count": 3,
      "outputs": [
        {
          "output_type": "display_data",
          "data": {
            "text/plain": [
              "<Figure size 640x480 with 1 Axes>"
            ],
            "image/png": "[encoded data removed]"
          },
          "metadata": {}
        }
      ]
    },
    {
      "cell_type": "code",
      "source": [
        "#Python ile binom ve poisson dağılımlarını gösterme\n",
        "import numpy as np\n",
        "import matplotlib.pyplot as plt\n",
        "\n",
        "binom = np.random.binomial(n=10, p=0.5, size=1000)\n",
        "poisson = np.random.poisson(lam=5, size=1000)\n",
        "\n",
        "plt.hist(binom, alpha=0.5, label='Binom Dağılımı')\n",
        "plt.hist(poisson, alpha=0.5, label='Poisson Dağılımı')\n",
        "plt.legend()\n",
        "plt.show()"
      ],
      "metadata": {
        "colab": {
          "base_uri": "https://localhost:8080/",
          "height": 430
        },
        "id": "OTtRaVLiq53A",
        "outputId": "fc5d4daf-e11f-4055-9d0f-f58805bc9e64"
      },
      "execution_count": 4,
      "outputs": [
        {
          "output_type": "display_data",
          "data": {
            "text/plain": [
              "<Figure size 640x480 with 1 Axes>"
            ],
            "image/png": "[encoded data removed]"
          },
          "metadata": {}
        }
      ]
    },
    {
      "cell_type": "code",
      "source": [
        "#Python ile Pearson ve Spearman korelasyonu hesaplama:\n",
        "#Korelasyon ve Nedensellik\n",
        "import pandas as pd\n",
        "df = pd.DataFrame({'x': [1,2,3,4,5], 'y': [2,4,6,8,10]})\n",
        "\n",
        "pearson_corr = df['x'].corr(df['y'], method='pearson')\n",
        "spearman_corr =  df['x'].corr(df['y'], method='spearman')\n",
        "\n",
        "print(f\"Pearson Korelasyonu: {pearson_corr}, Spearman Korelasyonu: {spearman_corr}\")"
      ],
      "metadata": {
        "colab": {
          "base_uri": "https://localhost:8080/"
        },
        "id": "pZ_6iJz1sK7U",
        "outputId": "789c5a99-2a40-4560-bd6a-7a0fc962aaf3"
      },
      "execution_count": 5,
      "outputs": [
        {
          "output_type": "stream",
          "name": "stdout",
          "text": [
            "Pearson Korelasyonu: 0.9999999999999999, Spearman Korelasyonu: 0.9999999999999999\n"
          ]
        }
      ]
    },
    {
      "cell_type": "code",
      "source": [
        "#Hipotez Testleri: H0 ve H1 Hipotezleri\n",
        "\"\"\"- H0 (Null Hipotezi): Arada fark veya ilişki olmadığını varsayar.\n",
        "- P-Değeri: H0 hipotezinin doğru olma olasılığı. Genellikle 0.05'ten\n",
        "küçükse sonuç istatistiksel olarak anlamlıdır.\n",
        "- H1 (Alternatif Hipotez): Farkın veya ilişkinin olduğunu varsayar. \"\"\"\n",
        "\n",
        "from scipy import stats\n",
        "\n",
        "veri1 = [1.2,2.3,3.1,4.0,5.5]\n",
        "veri2 = [1.8,2.8,3.0,4.7,5.2]\n",
        "\n",
        "t_stat,p_value = stats.ttest_ind(veri1,veri2)\n",
        "\n",
        "print(f\"T istatistiği: {t_stat}, P-değeri: {p_value}\")\n"
      ],
      "metadata": {
        "colab": {
          "base_uri": "https://localhost:8080/"
        },
        "id": "Qui1sf3tt8oc",
        "outputId": "54a14a8a-42d7-453b-ca97-08dd0c16bb72"
      },
      "execution_count": 6,
      "outputs": [
        {
          "output_type": "stream",
          "name": "stdout",
          "text": [
            "T istatistiği: -0.2895071863480909, P-değeri: 0.7795545547198538\n"
          ]
        }
      ]
    },
    {
      "cell_type": "code",
      "source": [
        "#Python ile güven aralığı hesaplama:\n",
        "import numpy as np\n",
        "import scipy.stats as st\n",
        "\n",
        "veri = [10,12,17,19,21,27]\n",
        "\n",
        "ci = st.t.interval(confidence=0.95, df=len(veri)-1, loc=np.mean(veri), scale=st.sem(veri))\n",
        "\n",
        "print(f\"95% güven aralığı: {ci}\")"
      ],
      "metadata": {
        "colab": {
          "base_uri": "https://localhost:8080/"
        },
        "id": "_4kmt2TgvgAP",
        "outputId": "ca403a66-92ad-4b66-aecb-e7291e5cc1ea"
      },
      "execution_count": 10,
      "outputs": [
        {
          "output_type": "stream",
          "name": "stdout",
          "text": [
            "95% güven aralığı: (11.174851804082888, 24.158481529250448)\n"
          ]
        }
      ]
    },
    {
      "cell_type": "code",
      "source": [
        "#Doğrusal Regresyon: Bağımsız ve bağımlı değişkenler arasındaki doğrusal ilişkiyi modelleme\n",
        "from sklearn.linear_model import LinearRegression\n",
        "\n",
        "X = np.array([1,2,3,4,5]).reshape(-1,1)\n",
        "Y = np.array([2,4,6,8,10])\n",
        "\n",
        "model = LinearRegression().fit(X,Y)\n",
        "print(f\"Regresyon katsayısı: {model.coef_[0]}\")"
      ],
      "metadata": {
        "colab": {
          "base_uri": "https://localhost:8080/"
        },
        "id": "Mj-Hzr2Pxi7C",
        "outputId": "a601415f-9c80-4641-9766-a227fd7e0e56"
      },
      "execution_count": 11,
      "outputs": [
        {
          "output_type": "stream",
          "name": "stdout",
          "text": [
            "Regresyon katsayısı: 2.0\n"
          ]
        }
      ]
    },
    {
      "cell_type": "code",
      "source": [
        "#Çoklu Regresyon: Birden fazla bağımsız değişken ile bağımlı değişken arasındaki ilişkiyi modelleme\n",
        "import numpy as np\n",
        "import pandas as pd\n",
        "from sklearn.linear_model import LinearRegression\n",
        "data = {\n",
        "    'X1': [1,2,3,4,5],\n",
        "    'X2': [2,4,6,8,10],\n",
        "    'y': [3,6,9,12,15]\n",
        "}\n",
        "\n",
        "df = pd.DataFrame(data)\n",
        "X = df[['X1','X2']]   #bağımsız değişkenler\n",
        "y = df['y']   #bağımlı değişken\n",
        "\n",
        "model = LinearRegression().fit(X,y)\n",
        "\n",
        "print(f\"Regresyon Katsayıları: {model.coef_}\")\n",
        "print(f\"Regresyon Sabiti: {model.intercept_}\")\n",
        "\n",
        "new_data = np.array([[6,12]])\n",
        "y_pred = model.predict(new_data)\n",
        "print(f\"Yeni veri [X1=6, X2=12] için tahmin edilen y: {y_pred[0]}\")"
      ],
      "metadata": {
        "colab": {
          "base_uri": "https://localhost:8080/"
        },
        "id": "uuvzg-ezyh0Q",
        "outputId": "8e3bb49e-cf61-4232-9eee-9a64a771395a"
      },
      "execution_count": 13,
      "outputs": [
        {
          "output_type": "stream",
          "name": "stdout",
          "text": [
            "Regresyon Katsayıları: [0.6 1.2]\n",
            "Regresyon Sabiti: 1.7763568394002505e-15\n",
            "Yeni veri [X1=6, X2=12] için tahmin edilen y: 18.0\n"
          ]
        },
        {
          "output_type": "stream",
          "name": "stderr",
          "text": [
            "/usr/local/lib/python3.10/dist-packages/sklearn/base.py:493: UserWarning: X does not have valid feature names, but LinearRegression was fitted with feature names\n",
            "  warnings.warn(\n"
          ]
        }
      ]
    }
  ]
}