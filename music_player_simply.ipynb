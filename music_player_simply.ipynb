{
  "nbformat": 4,
  "nbformat_minor": 0,
  "metadata": {
    "colab": {
      "provenance": []
    },
    "kernelspec": {
      "name": "python3",
      "display_name": "Python 3"
    },
    "language_info": {
      "name": "python"
    }
  },
  "cells": [
    {
      "cell_type": "code",
      "source": [
        "class MuzikCaler:\n",
        "    def __init__(self):  # __init__ yerine _init_ yazılmış, düzeltildi\n",
        "        self.caliyor = False\n",
        "        self.sarkilar = [\"Ben Her Mevsim Yazım\", \"Stereo Hearts\", \"Hometown Smile\"]\n",
        "        self.secilen_sarki = 0\n",
        "\n",
        "    def cal(self):\n",
        "        if not self.caliyor:\n",
        "            print(\"Sarki calmaya basladi.\")\n",
        "            self.caliyor = True\n",
        "        else:\n",
        "            print(\"Sarki zaten caliyor.\")\n",
        "\n",
        "    def duraklat(self):\n",
        "        if self.caliyor:\n",
        "            print(\"Sarki duraklatildi.\")\n",
        "            self.caliyor = False\n",
        "        else:\n",
        "            print(\"Sarki zaten duraklatilmis.\")\n",
        "\n",
        "    def ileri_sar(self):\n",
        "        if self.secilen_sarki < len(self.sarkilar) - 1:\n",
        "            self.secilen_sarki += 1\n",
        "            print(\"Sonraki sarkiya gecildi: \", self.sarkilar[self.secilen_sarki])\n",
        "        else:\n",
        "            print(\"Bu son sarki.\")\n",
        "\n",
        "    def geri_sar(self):\n",
        "        if self.secilen_sarki > 0:\n",
        "            self.secilen_sarki -= 1\n",
        "            print(\"Onceki sarkiya gecildi: \", self.sarkilar[self.secilen_sarki])\n",
        "        else:\n",
        "            print(\"Bu ilk sarki.\")\n",
        "\n",
        "    def sarki_listesi(self):\n",
        "        print(\"Mevcut sarkilar: \", self.sarkilar)\n",
        "\n",
        "muzikcaler = MuzikCaler()\n",
        "\n",
        "print(\" Muzik Calar \")\n",
        "muzikcaler.sarki_listesi()\n",
        "muzikcaler.cal()\n",
        "muzikcaler.ileri_sar()\n",
        "muzikcaler.duraklat()\n"
      ],
      "metadata": {
        "colab": {
          "base_uri": "https://localhost:8080/"
        },
        "id": "jU4XeQ7WWBte",
        "outputId": "5044595e-7955-466e-94bf-09f459242e35"
      },
      "execution_count": 16,
      "outputs": [
        {
          "output_type": "stream",
          "name": "stdout",
          "text": [
            " Muzik Calar \n",
            "Mevcut sarkilar:  ['Ben Her Mevsim Yazım', 'Stereo Hearts', 'Hometown Smile']\n",
            "Sarki calmaya basladi.\n",
            "Sonraki sarkiya gecildi:  Stereo Hearts\n",
            "Sarki duraklatildi.\n"
          ]
        }
      ]
    }
  ]
}