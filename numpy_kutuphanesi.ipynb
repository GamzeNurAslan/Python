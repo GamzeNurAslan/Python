{
  "nbformat": 4,
  "nbformat_minor": 0,
  "metadata": {
    "colab": {
      "provenance": []
    },
    "kernelspec": {
      "name": "python3",
      "display_name": "Python 3"
    },
    "language_info": {
      "name": "python"
    }
  },
  "cells": [
    {
      "cell_type": "code",
      "execution_count": 2,
      "metadata": {
        "colab": {
          "base_uri": "https://localhost:8080/"
        },
        "id": "NF9oUAaTC1f0",
        "outputId": "8d76382c-b257-4a7e-efaa-0db88b8a64e1"
      },
      "outputs": [
        {
          "output_type": "stream",
          "name": "stdout",
          "text": [
            "[1 2 3]\n"
          ]
        }
      ],
      "source": [
        "\"\"\"Neden NumPy Kullanmalı?\n",
        "-Python listelerinden daha hızlı ve verimlidir\n",
        "- Diziler üzerinde eleman bazında işlemler yapmayı sağlar\n",
        "- Bilimsel hesaplama ve veri analizi için gereklidir\"\"\"\n",
        "\n",
        "#NumPy'de Dizi Oluşturma\n",
        "import numpy as np\n",
        "dizi = np.array([1,2,3])\n",
        "print(dizi)"
      ]
    },
    {
      "cell_type": "code",
      "source": [
        "#NumPy Veri Tipleri\n",
        "import numpy as np\n",
        "dizi = np.array([1,2,3], dtype='float32')\n",
        "print(dizi)\n"
      ],
      "metadata": {
        "colab": {
          "base_uri": "https://localhost:8080/"
        },
        "id": "EmWuLzLhC9zn",
        "outputId": "6c54b05b-08b4-49fe-a647-dd5b6dcab5af"
      },
      "execution_count": 3,
      "outputs": [
        {
          "output_type": "stream",
          "name": "stdout",
          "text": [
            "[1. 2. 3.]\n"
          ]
        }
      ]
    },
    {
      "cell_type": "code",
      "source": [
        "#Dizi İndeksleme ve Dilimleme\n",
        "import numpy as np\n",
        "dizi = np.array([10,20,30,40])\n",
        "ilk_eleman = dizi[0]\n",
        "dilim = dizi[1:3]\n",
        "print(ilk_eleman)\n",
        "print(dilim)"
      ],
      "metadata": {
        "colab": {
          "base_uri": "https://localhost:8080/"
        },
        "id": "EMILxDBnDCJQ",
        "outputId": "d296a107-a2d7-4cea-8f81-9a1ebf4f3673"
      },
      "execution_count": 4,
      "outputs": [
        {
          "output_type": "stream",
          "name": "stdout",
          "text": [
            "10\n",
            "[20 30]\n"
          ]
        }
      ]
    },
    {
      "cell_type": "code",
      "source": [
        "#Dizi İşlemleri\n",
        "import numpy as np\n",
        "dizi1 = np.array([1,2,3])\n",
        "dizi2 = np.array([4,5,6])\n",
        "sonuc = dizi1+dizi2\n",
        "print(sonuc)"
      ],
      "metadata": {
        "colab": {
          "base_uri": "https://localhost:8080/"
        },
        "id": "E9H72N_jDGiF",
        "outputId": "8f4a5559-e8a3-4b67-9636-656f25bd4ca7"
      },
      "execution_count": 5,
      "outputs": [
        {
          "output_type": "stream",
          "name": "stdout",
          "text": [
            "[5 7 9]\n"
          ]
        }
      ]
    },
    {
      "cell_type": "code",
      "source": [
        "#Verileri Özetleme\n",
        "import numpy as np\n",
        "dizi = np.array([1,2,3,4,5,6])\n",
        "ortalama = np.mean(dizi)\n",
        "toplam = np.sum(dizi)\n",
        "print(ortalama)\n",
        "print(toplam)"
      ],
      "metadata": {
        "colab": {
          "base_uri": "https://localhost:8080/"
        },
        "id": "bYZmTjBaDJy7",
        "outputId": "5f40618d-3da4-433e-fdd4-fee2d82f4df4"
      },
      "execution_count": 6,
      "outputs": [
        {
          "output_type": "stream",
          "name": "stdout",
          "text": [
            "3.5\n",
            "21\n"
          ]
        }
      ]
    },
    {
      "cell_type": "code",
      "source": [
        "#Gelişmiş İndeksleme\n",
        "import numpy as np\n",
        "dizi = np.array([1,2,3,4,5,6,7,8,9,0])\n",
        "kosullu_dizi = dizi[dizi>5]\n",
        "print(kosullu_dizi)"
      ],
      "metadata": {
        "colab": {
          "base_uri": "https://localhost:8080/"
        },
        "id": "n0yesj7dDlv0",
        "outputId": "4c95323c-3b77-476f-b534-f55ed93ef47f"
      },
      "execution_count": 7,
      "outputs": [
        {
          "output_type": "stream",
          "name": "stdout",
          "text": [
            "[6 7 8 9]\n"
          ]
        }
      ]
    },
    {
      "cell_type": "code",
      "source": [
        "#N Boyutlu Diziler\n",
        "import numpy as np\n",
        "dizi = np.ones((3,3,3))\n",
        "print(dizi)"
      ],
      "metadata": {
        "colab": {
          "base_uri": "https://localhost:8080/"
        },
        "id": "rZhMtiACDpcn",
        "outputId": "af66ff79-67cf-4a41-d3cf-57c6ac32a6d4"
      },
      "execution_count": 8,
      "outputs": [
        {
          "output_type": "stream",
          "name": "stdout",
          "text": [
            "[[[1. 1. 1.]\n",
            "  [1. 1. 1.]\n",
            "  [1. 1. 1.]]\n",
            "\n",
            " [[1. 1. 1.]\n",
            "  [1. 1. 1.]\n",
            "  [1. 1. 1.]]\n",
            "\n",
            " [[1. 1. 1.]\n",
            "  [1. 1. 1.]\n",
            "  [1. 1. 1.]]]\n"
          ]
        }
      ]
    },
    {
      "cell_type": "code",
      "source": [
        "#NumPy'deki Matematiksel Fonksiyonlar\n",
        "import numpy as np\n",
        "dizi = np.array([1,4,9,0])\n",
        "karekok = np.sqrt(dizi)\n",
        "print(karekok)"
      ],
      "metadata": {
        "colab": {
          "base_uri": "https://localhost:8080/"
        },
        "id": "qcyDMKAjDsVL",
        "outputId": "3d1cb63b-5df7-49de-ebe2-e032145bb774"
      },
      "execution_count": 9,
      "outputs": [
        {
          "output_type": "stream",
          "name": "stdout",
          "text": [
            "[1. 2. 3. 0.]\n"
          ]
        }
      ]
    },
    {
      "cell_type": "code",
      "source": [
        "#NumPy'de Doğrusal Cebir\n",
        "\"\"\"-Matris çarpımı: `np.dot()`\n",
        "   - Matris tersini alma: `np.linalg.inv()`\"\"\"\n",
        "import numpy as np\n",
        "A = np.array([[1,2],[3,4]])\n",
        "B = np.array([[5,6],[7,8]])\n",
        "sonuc = np.dot(A, B)\n",
        "print(sonuc)"
      ],
      "metadata": {
        "colab": {
          "base_uri": "https://localhost:8080/"
        },
        "id": "FsGVMEKLDvws",
        "outputId": "a2343b55-ed7b-4299-e0a9-9a82e37e29fa"
      },
      "execution_count": 10,
      "outputs": [
        {
          "output_type": "stream",
          "name": "stdout",
          "text": [
            "[[19 22]\n",
            " [43 50]]\n"
          ]
        }
      ]
    },
    {
      "cell_type": "code",
      "source": [
        "#NumPy'de Doğrusal Cebir\n",
        "#- Matris çarpımı: `np.dot()`\n",
        "#- Matris tersini alma: `np.linalg.inv()`\n"
      ],
      "metadata": {
        "id": "Oy350mbeDy69"
      },
      "execution_count": 11,
      "outputs": []
    },
    {
      "cell_type": "code",
      "source": [
        "#NumPy'de Yayınlama (Broadcasting)\n",
        "import numpy as np\n",
        "dizi = np.array([1,2,3])\n",
        "sonuc = dizi+5\n",
        "print(sonuc)\n"
      ],
      "metadata": {
        "colab": {
          "base_uri": "https://localhost:8080/"
        },
        "id": "7Kc4wES8D2FY",
        "outputId": "92455371-930c-4fe6-dc43-82d73597016b"
      },
      "execution_count": 12,
      "outputs": [
        {
          "output_type": "stream",
          "name": "stdout",
          "text": [
            "[6 7 8]\n"
          ]
        }
      ]
    }
  ]
}