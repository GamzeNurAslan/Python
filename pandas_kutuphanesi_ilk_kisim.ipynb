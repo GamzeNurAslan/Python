{
  "nbformat": 4,
  "nbformat_minor": 0,
  "metadata": {
    "colab": {
      "provenance": []
    },
    "kernelspec": {
      "name": "python3",
      "display_name": "Python 3"
    },
    "language_info": {
      "name": "python"
    }
  },
  "cells": [
    {
      "cell_type": "code",
      "source": [
        "#Neden pandas Kullanmalı?\n",
        "\"\"\"- Eksik verileri kolayca yönetir\n",
        "- Büyük veri kümeleri üzerinde hızlı işlemler\n",
        "- NumPy, Matplotlib ve Scikit-learn gibi kütüphanelerle entegrasyon\"\"\""
      ],
      "metadata": {
        "id": "Qi4Kx_BDE1Pf"
      },
      "execution_count": null,
      "outputs": []
    },
    {
      "cell_type": "code",
      "source": [
        "#pandas Veri Yapıları\n",
        "import pandas as pd\n",
        "seri = pd.Series([1,2,3])\n",
        "print(seri)"
      ],
      "metadata": {
        "colab": {
          "base_uri": "https://localhost:8080/"
        },
        "id": "CBqIqHv4E2vz",
        "outputId": "833a246c-142e-4584-ec9d-4952dfbbeb72"
      },
      "execution_count": 14,
      "outputs": [
        {
          "output_type": "stream",
          "name": "stdout",
          "text": [
            "0    1\n",
            "1    2\n",
            "2    3\n",
            "dtype: int64\n"
          ]
        }
      ]
    },
    {
      "cell_type": "code",
      "source": [
        "#DataFrame Oluşturma\n",
        "import pandas as pd\n",
        "df = pd.DataFrame({'kolon1': [1,2], 'kolon2': [3,4]})\n",
        "print(df)"
      ],
      "metadata": {
        "colab": {
          "base_uri": "https://localhost:8080/"
        },
        "id": "bzxCGZDNKv6t",
        "outputId": "761166e3-a741-4e70-b169-e26962e2b3fb"
      },
      "execution_count": 15,
      "outputs": [
        {
          "output_type": "stream",
          "name": "stdout",
          "text": [
            "   kolon1  kolon2\n",
            "0       1       3\n",
            "1       2       4\n"
          ]
        }
      ]
    },
    {
      "cell_type": "code",
      "source": [
        "#Satır ve Sütun Ekleme ve Silme\n",
        "import pandas as pd\n",
        "df['yeni_kolon'] = [7, 8]\n",
        "df = df.drop('yeni_kolon', axis=1)\n",
        "print(df)"
      ],
      "metadata": {
        "colab": {
          "base_uri": "https://localhost:8080/"
        },
        "id": "HRpK0abvMOAH",
        "outputId": "0286fd70-b857-4bf5-967c-789fb2e18aec"
      },
      "execution_count": 23,
      "outputs": [
        {
          "output_type": "stream",
          "name": "stdout",
          "text": [
            "   kolon1\n",
            "0       1\n",
            "1       2\n"
          ]
        }
      ]
    },
    {
      "cell_type": "code",
      "source": [
        "#pandas ile Eksik Veri Yönetimi\n",
        "import pandas as pd\n",
        "df = pd.DataFrame({'kolon1': [1,2,None], 'kolon2': [4,None,6]})\n",
        "df_doldurulmus = df.fillna(0) #Eksik verileri 0 ile doldurma\n",
        "print(df_doldurulmus)"
      ],
      "metadata": {
        "colab": {
          "base_uri": "https://localhost:8080/"
        },
        "id": "P9JY-c-oMlQ4",
        "outputId": "67a73305-b433-4947-d6b3-e688f5967a44"
      },
      "execution_count": 25,
      "outputs": [
        {
          "output_type": "stream",
          "name": "stdout",
          "text": [
            "   kolon1  kolon2\n",
            "0     1.0     4.0\n",
            "1     2.0     0.0\n",
            "2     0.0     6.0\n"
          ]
        }
      ]
    },
    {
      "cell_type": "code",
      "source": [
        "#pandas DataFrame Operasyonları\n",
        "import pandas as pd\n",
        "df = pd.DataFrame({'kolon1': [3,2,1], 'kolon2': [9,8,7]})\n",
        "df_sirali = df.sort_values(by='kolon1')\n",
        "print(df_sirali)"
      ],
      "metadata": {
        "colab": {
          "base_uri": "https://localhost:8080/"
        },
        "id": "U1GIa9LAOdxY",
        "outputId": "ec4bd7c1-1d9c-4170-d117-489b61ed54a7"
      },
      "execution_count": 27,
      "outputs": [
        {
          "output_type": "stream",
          "name": "stdout",
          "text": [
            "   kolon1  kolon2\n",
            "2       1       7\n",
            "1       2       8\n",
            "0       3       9\n"
          ]
        }
      ]
    },
    {
      "cell_type": "code",
      "source": [
        "\"\"\"DataFrame Birleştirme ve Katıştırma (Merging and Concatenation)\n",
        "- İki DataFrame'i birleştirme: `pd.merge(df1, df2, on='anahtar_kolon')`\n",
        "- DataFrame'leri ardışık ekleme: `pd.concat([df1, df2])`\"\"\"\n",
        "\n",
        "import pandas as pd\n",
        "df1 = pd.DataFrame({'anahtar': ['A','B'], 'deger1': [1,2]})\n",
        "df2 = pd.DataFrame({'anahtar': ['A','B'], 'deger2': [3,4]})\n",
        "df_birlesik = pd.merge(df1,df2,on='anahtar')\n",
        "print(df_birlesik)"
      ],
      "metadata": {
        "colab": {
          "base_uri": "https://localhost:8080/"
        },
        "id": "S7ruLsYIPKL0",
        "outputId": "19e7ca4c-6b19-4e05-db8f-28ad1fa08679"
      },
      "execution_count": 29,
      "outputs": [
        {
          "output_type": "stream",
          "name": "stdout",
          "text": [
            "  anahtar  deger1  deger2\n",
            "0       A       1       3\n",
            "1       B       2       4\n"
          ]
        }
      ]
    }
  ]
}