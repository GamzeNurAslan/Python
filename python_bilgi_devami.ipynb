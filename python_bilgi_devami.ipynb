{
  "nbformat": 4,
  "nbformat_minor": 0,
  "metadata": {
    "colab": {
      "provenance": []
    },
    "kernelspec": {
      "name": "python3",
      "display_name": "Python 3"
    },
    "language_info": {
      "name": "python"
    }
  },
  "cells": [
    {
      "cell_type": "code",
      "execution_count": null,
      "metadata": {
        "colab": {
          "base_uri": "https://localhost:8080/"
        },
        "id": "f4W1wn3vB2WQ",
        "outputId": "3e544346-2cb8-4dc2-dc7a-3ca4c2ec1cb7"
      },
      "outputs": [
        {
          "output_type": "stream",
          "name": "stdout",
          "text": [
            "0    10\n",
            "1    20\n",
            "2    30\n",
            "3    40\n",
            "4    50\n",
            "Name: carpim, dtype: int64\n"
          ]
        }
      ],
      "source": [
        "\"\"\"#Veri Okuma ve Yazma\n",
        "df = pd.read_csv('dosya.csv')\n",
        "df.to_csv('output.csv')\"\"\"\n",
        "\n",
        "\n",
        "\"\"\"#Büyük Veri Kümeleri İle Çalışmak\n",
        "#Büyük veri ile chunking\n",
        "chunk_iter = pd.read_csv('dosya.csv',chunkSize = 1000)\n",
        "for chunk in chunk_iter:\n",
        "  islenen_veri = chunk['kolon'].sum()\n",
        "  print(islenen_veri)\"\"\"\n",
        "\n",
        "\n",
        "\"\"\"pandas ve NumPy Performans Optimizasyonu\"\"\"\n",
        "import pandas as pd\n",
        "df = pd.DataFrame({'deger':[1,2,3,4,5]})\n",
        "df['carpim'] = df['deger']*10   #Döngü yerine vektörize işlem\n",
        "print(df['carpim'])"
      ]
    },
    {
      "cell_type": "code",
      "source": [
        "\"\"\"pandas'da Bellek Optimizasyonu\"\"\"\n",
        "df = pd.DataFrame({'sayi':[1,2,3]})\n",
        "df['sayi'] = df['sayi'].astype('float32')\n",
        "print(df['sayi'])"
      ],
      "metadata": {
        "colab": {
          "base_uri": "https://localhost:8080/"
        },
        "id": "h83WU7arCXe-",
        "outputId": "522baa82-ff0a-4418-8bb9-790c51ccaab8"
      },
      "execution_count": null,
      "outputs": [
        {
          "output_type": "stream",
          "name": "stdout",
          "text": [
            "0    1.0\n",
            "1    2.0\n",
            "2    3.0\n",
            "Name: sayi, dtype: float32\n"
          ]
        }
      ]
    },
    {
      "cell_type": "code",
      "source": [
        "\"\"\"pandas ve NumPy'de En İyi Uygulamalar\n",
        "#- Veri analizi için veri temizliği ve keşfi en iyi uygulamaları\n",
        "#- DataFrame yapısını inceleyin: `.head()` ve `.info()` kullanımı\n",
        "    df = pd.DataFrame({'kolon1': [1,2,3], 'kolon2': [4,5,6]})\n",
        "    df.head()\"\"\""
      ],
      "metadata": {
        "id": "83Uda0hUD_E-"
      },
      "execution_count": null,
      "outputs": []
    },
    {
      "cell_type": "code",
      "source": [
        "\"\"\"pandas'da İleri Seviye İndeksleme Teknikleri\"\"\"\n",
        "df = pd.DataFrame({'seviye1': ['A','B'], 'seviye2': [1,2], 'deger': [10,20]})\n",
        "df = df.set_index(['seviye1','seviye2'])\n",
        "print(df)"
      ],
      "metadata": {
        "colab": {
          "base_uri": "https://localhost:8080/"
        },
        "id": "jow-arhXELta",
        "outputId": "d93ba808-9691-42cf-83ca-cb3b198a12c4"
      },
      "execution_count": null,
      "outputs": [
        {
          "output_type": "stream",
          "name": "stdout",
          "text": [
            "                 deger\n",
            "seviye1 seviye2       \n",
            "A       1           10\n",
            "B       2           20\n"
          ]
        }
      ]
    },
    {
      "cell_type": "code",
      "source": [
        "\"\"\"pandas'da Gruplama ve Dönüştürme (Groupby ve Transform)\"\"\"\n",
        "df = pd.DataFrame({'kategori': ['A','B','A','B'], 'deger': [10,20,30,40]})\n",
        "df['ortalama'] = df.groupby('kategori')['deger'].transform('mean')\n",
        "print(df['ortalama'])"
      ],
      "metadata": {
        "colab": {
          "base_uri": "https://localhost:8080/"
        },
        "id": "ou-r0ZD8FB7O",
        "outputId": "11a86497-664d-4f10-8c3e-2be61ab48976"
      },
      "execution_count": null,
      "outputs": [
        {
          "output_type": "stream",
          "name": "stdout",
          "text": [
            "0    20.0\n",
            "1    30.0\n",
            "2    20.0\n",
            "3    30.0\n",
            "Name: ortalama, dtype: float64\n"
          ]
        }
      ]
    },
    {
      "cell_type": "code",
      "source": [
        "\"\"\"İleri Seviye NumPy Fonksiyonları\"\"\"\n",
        "import numpy as np\n",
        "dizi = np.array([1,2,3,4,5])\n",
        "varyans = np.var(dizi)\n",
        "std_sapma = np.std(dizi)\n",
        "print(varyans)\n",
        "print(std_sapma)"
      ],
      "metadata": {
        "colab": {
          "base_uri": "https://localhost:8080/"
        },
        "id": "ki0Cj4K0F2Zd",
        "outputId": "58cc8e8a-fde9-429e-d9a8-d32603e5ab7c"
      },
      "execution_count": null,
      "outputs": [
        {
          "output_type": "stream",
          "name": "stdout",
          "text": [
            "2.0\n",
            "1.4142135623730951\n"
          ]
        }
      ]
    },
    {
      "cell_type": "code",
      "source": [
        "\"\"\"pandas ve NumPy ile Uçtan Uca Proje\n",
        "import pandas as pd\n",
        "df = pd.read_csv('veri.csv')\n",
        "df_clean = df.dropna() #Eksik verileri temizleme\n",
        "ortalama = df_clean('deger').mean()\n",
        "df_clean.plot(kind='line')\n",
        "plt.show()\"\"\""
      ],
      "metadata": {
        "id": "3Uqi6ZbUHQwC"
      },
      "execution_count": null,
      "outputs": []
    },
    {
      "cell_type": "code",
      "source": [
        "\"\"\"- NumPy: Performans ve verimlilik için sayısal hesaplamalarda güçlüdür.\n",
        " - Dizi işlemleri, vektörleştirme, yayınlama (broadcasting)\n",
        " - Linear cebir, rastgele sayı üretimi\n",
        "\n",
        " *******************************************************************************\n",
        "\n",
        "- pandas: Veri manipülasyonu ve analizi için güçlüdür.\n",
        " - DataFrame ve Series yapıları, gruplama, filtreleme\n",
        " - Büyük veri kümeleri ile çalışma, veri temizleme ve görselleştirme\"\"\""
      ],
      "metadata": {
        "id": "gH64bIngHeFq"
      },
      "execution_count": null,
      "outputs": []
    },
    {
      "cell_type": "code",
      "source": [
        "#Logaritmik Dönüşüm\n",
        "import pandas as pd\n",
        "import numpy as np\n",
        "#Gapminder verisini yükle\n",
        "gapminder pd.read_csv(\"https://example.com/finansal_veriler.csv\")\n",
        "gapminder.head()\n",
        "\n",
        "#Kişi başına düşen GSYH(gdpPercap) sütununa logaritmik dönüşüm uygulama\n",
        "gapminder.['log_gdpPercap'] = np.log(gapminder['gdpPercap'])\n",
        "\n",
        "#Nüfus sütununa logaritmik dönüşüm uygulama\n",
        "gapminder['log_pop'] = np.log(gapminder['pop'])\n",
        "\n",
        "#Sonuçları görmek için ilk 5 satırı göster\n",
        "print(gapminder[['country','gdpPercap','log_gdpPercap','pop','log_pop']].head())"
      ],
      "metadata": {
        "id": "lZTIyMX-Hr4q"
      },
      "execution_count": null,
      "outputs": []
    },
    {
      "cell_type": "code",
      "source": [
        "import pandas as pd\n",
        "import numpy as np\n",
        "from sklearn .preprocessing import MinMaxScaler\n",
        "\n",
        "#Örnek bir veri seti oluşturma\n",
        "data = {\n",
        "    'age': [25,35,45,55,65],\n",
        "    'income': [5000,6000,7000,8000,9000],\n",
        "    'expenses': [2000,2500,3000,3500,4000]}\n",
        "\n",
        "#Veri setini bir pandas veri setine çevirme\n",
        "df = pd.DataFrame(data)\n",
        "#Min-Max ölçekleme uygulamak için MinMaxScaler'ı kullanıyoruz\n",
        "scaler = MinMaxScaler()\n",
        "\n",
        "df_scaled = pd.DataFrame(scaler.fit_transform(df),columns = df.columns)\n",
        "\n",
        "print(\"Orijinal veri:\")\n",
        "print(df)\n",
        "\n",
        "print(\"\\nMin-Max ölçeklenmiş veri:\")\n",
        "print(df_scaled)"
      ],
      "metadata": {
        "colab": {
          "base_uri": "https://localhost:8080/"
        },
        "id": "IdR9kiKGtrcE",
        "outputId": "1c878c81-2353-4523-b50f-c06134f0af0b"
      },
      "execution_count": null,
      "outputs": [
        {
          "output_type": "stream",
          "name": "stdout",
          "text": [
            "Orijinal veri:\n",
            "   age  income  expenses\n",
            "0   25    5000      2000\n",
            "1   35    6000      2500\n",
            "2   45    7000      3000\n",
            "3   55    8000      3500\n",
            "4   65    9000      4000\n",
            "\n",
            "Min-Max ölçeklenmiş veri:\n",
            "    age  income  expenses\n",
            "0  0.00    0.00      0.00\n",
            "1  0.25    0.25      0.25\n",
            "2  0.50    0.50      0.50\n",
            "3  0.75    0.75      0.75\n",
            "4  1.00    1.00      1.00\n"
          ]
        }
      ]
    },
    {
      "cell_type": "code",
      "source": [
        "import pandas as pd\n",
        "import numpy as np\n",
        "from sklearn.preprocessing import StandardScaler\n",
        "#örnek bir veri seti oluşturalım\n",
        "data = {\n",
        "'age': [25,35,45,55,65],\n",
        "'income': [5000,6000,7000,8000,9000],\n",
        "'expenses':[2000,2500,3000,3500,4000]\n",
        "}\n",
        "\n",
        "#veri setini pandas DataFrame'e çevirme\n",
        "df = pd.DataFrame(data)\n",
        "#StandardScaler'ı kullanarak 'income' sütununu ölçeklendirme\n",
        "scaler = StandardScaler()\n",
        "#gelir sütununu (income) standardize etme\n",
        "df['income_scaled'] = scaler.fit_transform(df[['income']])\n",
        "\n",
        "#sonuçları görmek için veri setini yazdırma\n",
        "print(\"Orijinal veri:\")\n",
        "print(df[['income']])\n",
        "\n",
        "print(\"\\Standardize edilmiş veri:\")\n",
        "print(df[['income_scaled']])"
      ],
      "metadata": {
        "id": "ljvBcEd_-5LI",
        "colab": {
          "base_uri": "https://localhost:8080/"
        },
        "outputId": "e228ec09-0ac5-4aab-cf41-216e6317d040"
      },
      "execution_count": 1,
      "outputs": [
        {
          "output_type": "stream",
          "name": "stdout",
          "text": [
            "Orijinal veri:\n",
            "   income\n",
            "0    5000\n",
            "1    6000\n",
            "2    7000\n",
            "3    8000\n",
            "4    9000\n",
            "\\Standardize edilmiş veri:\n",
            "   income_scaled\n",
            "0      -1.414214\n",
            "1      -0.707107\n",
            "2       0.000000\n",
            "3       0.707107\n",
            "4       1.414214\n"
          ]
        }
      ]
    },
    {
      "cell_type": "code",
      "source": [
        "\"\"\"One-Hot Encoding\"\"\"\n",
        "import pandas as pd\n",
        "#örnek veri seti\n",
        "data = {'Müşteri': ['Gamze','Nur','Aslan'], 'Cinsiyet': ['Kadın','Kadın','Erkek']}\n",
        "df = pd.DataFrame(data)\n",
        "\n",
        "#One-Hot Encoding\n",
        "df_encoded = pd.get_dummies(df,columns=['Cinsiyet'])\n",
        "\n",
        "print(df_encoded)"
      ],
      "metadata": {
        "colab": {
          "base_uri": "https://localhost:8080/"
        },
        "id": "XDi6xUVbCYUF",
        "outputId": "46abdb73-50a1-4563-ecca-059749d580c5"
      },
      "execution_count": 2,
      "outputs": [
        {
          "output_type": "stream",
          "name": "stdout",
          "text": [
            "  Müşteri  Cinsiyet_Erkek  Cinsiyet_Kadın\n",
            "0   Gamze           False            True\n",
            "1     Nur           False            True\n",
            "2   Aslan            True           False\n"
          ]
        }
      ]
    },
    {
      "cell_type": "code",
      "source": [
        "\"\"\"Label Encoding\"\"\"\n",
        "#red=0,green=1,blue=2\n",
        "from sklearn.preprocessing import LabelEncoder\n",
        "\n",
        "#LabelEncoder'ı başlat\n",
        "gapminder['encoded_continent'] = le.fit_transform(gapminder['continent'])\n",
        "\n",
        "#yeni kodlnamış sütunu yazdır\n",
        "print(gapminder[['continent','encoded_continent']].head())"
      ],
      "metadata": {
        "id": "LxazMTifD1V2"
      },
      "execution_count": 4,
      "outputs": []
    }
  ]
}