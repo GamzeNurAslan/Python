{
  "nbformat": 4,
  "nbformat_minor": 0,
  "metadata": {
    "colab": {
      "provenance": []
    },
    "kernelspec": {
      "name": "python3",
      "display_name": "Python 3"
    },
    "language_info": {
      "name": "python"
    }
  },
  "cells": [
    {
      "cell_type": "code",
      "source": [
        "\"\"\"Veri Dönüştürme: Ayrıklaştırma ve Binning\"\"\"\n",
        "import pandas as pd\n",
        "import numpy as np\n",
        "\n",
        "data = {\n",
        "    'continuous_column': [1.5, 2.3, 5.7, 7.9, 3.6, 4.4, 6.1, 8.5, 9.2]\n",
        "}\n",
        "\n",
        "df = pd.DataFrame(data)\n",
        "df['binned_column'] = pd.cut(df['continuous_column'], bins=3, labels=[\"Low\", \"Medium\", \"High\"])\n",
        "\n",
        "print(\"Orijinal sürekli değerler:\")\n",
        "print(df['continuous_column'])\n",
        "\n",
        "print(\"Binned:\")\n",
        "print(df[['continuous_column', 'binned_column']])"
      ],
      "metadata": {
        "id": "s5RDy_6iF4s-",
        "colab": {
          "base_uri": "https://localhost:8080/"
        },
        "outputId": "4bf2f203-350e-4c94-c62e-5b7afae3f024"
      },
      "execution_count": null,
      "outputs": [
        {
          "output_type": "stream",
          "name": "stdout",
          "text": [
            "Orijinal sürekli değerler:\n",
            "0    1.5\n",
            "1    2.3\n",
            "2    5.7\n",
            "3    7.9\n",
            "4    3.6\n",
            "5    4.4\n",
            "6    6.1\n",
            "7    8.5\n",
            "8    9.2\n",
            "Name: continuous_column, dtype: float64\n",
            "Binned:\n",
            "   continuous_column binned_column\n",
            "0                1.5           Low\n",
            "1                2.3           Low\n",
            "2                5.7        Medium\n",
            "3                7.9          High\n",
            "4                3.6           Low\n",
            "5                4.4        Medium\n",
            "6                6.1        Medium\n",
            "7                8.5          High\n",
            "8                9.2          High\n"
          ]
        }
      ]
    },
    {
      "cell_type": "code",
      "source": [
        "\"\"\"Veri Dönüştürme: Polinomial Dönüşümler\"\"\"\n",
        "import pandas as pd\n",
        "from sklearn.preprocessing import PolynomialFeatures\n",
        "\n",
        "data = {\n",
        "    'feature': [2, 4, 6, 8, 10]\n",
        "}\n",
        "df = pd.DataFrame(data)\n",
        "\n",
        "poly = PolynomialFeatures(degree=2)\n",
        "\n",
        "# Dönüştürme işlemi\n",
        "df_poly = poly.fit_transform(df[['feature']])\n",
        "\n",
        "# DataFrame oluşturma\n",
        "df_poly = pd.DataFrame(df_poly, columns=['1', 'feature', 'feature^2'])\n",
        "\n",
        "print(df_poly)\n"
      ],
      "metadata": {
        "colab": {
          "base_uri": "https://localhost:8080/"
        },
        "id": "S4SpBYJ7gVSW",
        "outputId": "96532281-9f04-4de7-b50c-467b4864df9a"
      },
      "execution_count": 13,
      "outputs": [
        {
          "output_type": "stream",
          "name": "stdout",
          "text": [
            "     1  feature  feature^2\n",
            "0  1.0      2.0        4.0\n",
            "1  1.0      4.0       16.0\n",
            "2  1.0      6.0       36.0\n",
            "3  1.0      8.0       64.0\n",
            "4  1.0     10.0      100.0\n"
          ]
        }
      ]
    },
    {
      "cell_type": "code",
      "source": [
        "import pandas as pd\n",
        "\n",
        "# Örnek DataFrame\n",
        "data = {\n",
        "    'first_name': ['Gamze', 'Nur'],\n",
        "    'last_name': ['Aslan', 'Gunes'],\n",
        "    'date': ['2023-10-01', '2024-01-15']\n",
        "}\n",
        "df = pd.DataFrame(data)\n",
        "\n",
        "# 'date' kolonunu datetime formatına çevirme\n",
        "df['date'] = pd.to_datetime(df['date'])\n",
        "\n",
        "# Yeni kolonları oluşturma\n",
        "df['full_name'] = df['first_name'] + ' ' + df['last_name']\n",
        "df['year'] = df['date'].dt.year\n",
        "df['month'] = df['date'].dt.month\n",
        "df['day'] = df['date'].dt.day\n",
        "\n",
        "print(df)\n"
      ],
      "metadata": {
        "colab": {
          "base_uri": "https://localhost:8080/"
        },
        "id": "5aDBT5Q1gc0D",
        "outputId": "7130da85-ec07-49c2-90b1-68bfd9c8d772"
      },
      "execution_count": 16,
      "outputs": [
        {
          "output_type": "stream",
          "name": "stdout",
          "text": [
            "  first_name last_name       date    full_name  year  month  day\n",
            "0      Gamze     Aslan 2023-10-01  Gamze Aslan  2023     10    1\n",
            "1        Nur     Gunes 2024-01-15    Nur Gunes  2024      1   15\n"
          ]
        }
      ]
    },
    {
      "cell_type": "code",
      "source": [
        "import pandas as pd\n",
        "from sklearn.linear_model import LinearRegression\n",
        "from sklearn.impute import SimpleImputer\n",
        "\n",
        "# Örnek veri\n",
        "data = {\n",
        "    'feature1': [1, 2, None, 4],\n",
        "    'feature2': [5, None, 7, 8],\n",
        "    'target': [1, None, 3, 4]\n",
        "}\n",
        "df = pd.DataFrame(data)\n",
        "\n",
        "# Eksik değerlerin tamamlanması\n",
        "imputer = SimpleImputer(strategy='mean')\n",
        "df[['feature1', 'feature2']] = imputer.fit_transform(df[['feature1', 'feature2']])\n",
        "\n",
        "print(\"Eksik değerler doldurulduktan sonraki orijinal veri seti:\")\n",
        "print(df)\n",
        "\n",
        "# Modelin oluşturulması\n",
        "model = LinearRegression()\n",
        "\n",
        "# target için eksik olanları bırak\n",
        "df_train = df.dropna(subset=['target'])\n",
        "\n",
        "# Modeli eğit\n",
        "model.fit(df_train[['feature1', 'feature2']], df_train['target'])\n",
        "\n",
        "# Tahmin yap\n",
        "predicted_values = model.predict(df[['feature1', 'feature2']])\n",
        "\n",
        "# Tahmin edilen değerleri eksik olan target'lara doldur\n",
        "df['target'].fillna(pd.Series(predicted_values, index=df.index), inplace=True)\n",
        "\n",
        "print(\"Doldurulmuş veri seti:\")\n",
        "print(df)"
      ],
      "metadata": {
        "colab": {
          "base_uri": "https://localhost:8080/"
        },
        "id": "tQHPNCs-sqSv",
        "outputId": "e4252227-7ccc-4603-a22a-650d19495c10"
      },
      "execution_count": 18,
      "outputs": [
        {
          "output_type": "stream",
          "name": "stdout",
          "text": [
            "Eksik değerler doldurulduktan sonraki orijinal veri seti:\n",
            "   feature1  feature2  target\n",
            "0  1.000000  5.000000     1.0\n",
            "1  2.000000  6.666667     NaN\n",
            "2  2.333333  7.000000     3.0\n",
            "3  4.000000  8.000000     4.0\n",
            "Doldurulmuş veri seti:\n",
            "   feature1  feature2    target\n",
            "0  1.000000  5.000000  1.000000\n",
            "1  2.000000  6.666667  2.666667\n",
            "2  2.333333  7.000000  3.000000\n",
            "3  4.000000  8.000000  4.000000\n"
          ]
        },
        {
          "output_type": "stream",
          "name": "stderr",
          "text": [
            "<ipython-input-18-16791fde01ff>:33: FutureWarning: A value is trying to be set on a copy of a DataFrame or Series through chained assignment using an inplace method.\n",
            "The behavior will change in pandas 3.0. This inplace method will never work because the intermediate object on which we are setting values always behaves as a copy.\n",
            "\n",
            "For example, when doing 'df[col].method(value, inplace=True)', try using 'df.method({col: value}, inplace=True)' or df[col] = df[col].method(value) instead, to perform the operation inplace on the original object.\n",
            "\n",
            "\n",
            "  df['target'].fillna(pd.Series(predicted_values, index=df.index), inplace=True)\n"
          ]
        }
      ]
    },
    {
      "cell_type": "code",
      "source": [
        "\"\"\"Temel Görüntü Artırma Teknikleri\"\"\"\n",
        "import torchvision.transforms as transforms\n",
        "from PIL import Image\n",
        "\n",
        "# Örnek bir görüntü açma\n",
        "image = Image.open('https://i.pinimg.com/736x/39/35/3d/39353d2ff73169bd183b6585e27e6a52.jpg')  # Burada görüntünün yolunu belirtin\n",
        "\n",
        "# Dönüşümler\n",
        "transform = transforms.Compose([\n",
        "    transforms.RandomHorizontalFlip(),\n",
        "    transforms.RandomRotation(10),\n",
        "    transforms.RandomResizedCrop(224),\n",
        "    transforms.ToTensor()\n",
        "])\n",
        "\n",
        "# Görüntüye dönüşümleri uygula\n",
        "transformed_image = transform(image)\n",
        "\n",
        "# Görüntü boyutunu kontrol et\n",
        "print(transformed_image.size())\n"
      ],
      "metadata": {
        "id": "uQ9aDknKPHXP"
      },
      "execution_count": 3,
      "outputs": []
    },
    {
      "cell_type": "code",
      "source": [
        "\"\"\"Renk Tabanlı Artırma Teknikleri\"\"\"\n",
        "import torchvision.transforms as transforms\n",
        "from PIL import Image\n",
        "\n",
        "# Örnek bir görüntü açma\n",
        "image = Image.open('path/to/your/image.jpg')  # Burada görüntünün yolunu belirtin\n",
        "\n",
        "# Renk tabanlı artırma\n",
        "transform = transforms.ColorJitter(brightness=0.2, contrast=0.2, saturation=0.2)\n",
        "\n",
        "# Görüntüye dönüşümü uygula\n",
        "transformed_image = transform(image)\n",
        "\n",
        "# Görüntü boyutunu kontrol et (veya görüntüyü göster)\n",
        "transformed_image.show()\n"
      ],
      "metadata": {
        "id": "1PGaJcPbQP_r"
      },
      "execution_count": null,
      "outputs": []
    },
    {
      "cell_type": "code",
      "source": [
        "\"\"\"Geometrik Dönüşümler\"\"\"\n",
        "import torchvision.transforms as transforms\n",
        "from PIL import Image\n",
        "\n",
        "# Örnek bir görüntü açma\n",
        "image = Image.open('path/to/your/image.jpg')  # Burada görüntünün yolunu belirtin\n",
        "\n",
        "# Geometrik dönüşümler\n",
        "transform = transforms.RandomAffine(degrees=30, translate=(0.1, 0.1))\n",
        "\n",
        "# Görüntüye dönüşümü uygula\n",
        "transformed_image = transform(image)\n",
        "\n",
        "# Dönüştürülmüş görüntüyü göster\n",
        "transformed_image.show()\n"
      ],
      "metadata": {
        "id": "GeesPAkrQayr"
      },
      "execution_count": 5,
      "outputs": []
    },
    {
      "cell_type": "code",
      "source": [
        "\"\"\"İleri Teknikler için Kod Örneği\"\"\"\n",
        "import torch\n",
        "from torchvision import transforms\n",
        "from PIL import Image\n",
        "\n",
        "# Örnek bir görüntü açma\n",
        "image = Image.open('path/to/your/image.jpg')  # Burada görüntünün yolunu belirtin\n",
        "\n",
        "# Dönüşümler\n",
        "transform = transforms.Compose([\n",
        "    transforms.RandomHorizontalFlip(),\n",
        "    transforms.RandomRotation(20),\n",
        "    transforms.RandomErasing(p=0.3, scale=(0.02, 0.1), ratio=(0.3, 3.3)),\n",
        "    transforms.ToTensor()  # Virgül eklendi\n",
        "])\n",
        "\n",
        "# Görüntü artırma uygulaması\n",
        "transformed_image = transform(image)\n",
        "\n",
        "# Dönüştürülmüş görüntüyü göster\n",
        "transformed_image.show()\n"
      ],
      "metadata": {
        "id": "n4sVDG2hRnPM"
      },
      "execution_count": 7,
      "outputs": []
    },
    {
      "cell_type": "code",
      "source": [],
      "metadata": {
        "id": "4cWlsfFYVmax"
      },
      "execution_count": null,
      "outputs": []
    }
  ]
}