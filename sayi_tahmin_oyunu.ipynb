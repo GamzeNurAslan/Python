{
  "nbformat": 4,
  "nbformat_minor": 0,
  "metadata": {
    "colab": {
      "provenance": []
    },
    "kernelspec": {
      "name": "python3",
      "display_name": "Python 3"
    },
    "language_info": {
      "name": "python"
    }
  },
  "cells": [
    {
      "cell_type": "code",
      "execution_count": 4,
      "metadata": {
        "colab": {
          "base_uri": "https://localhost:8080/"
        },
        "id": "ZQXh_zbmB_UV",
        "outputId": "215d2246-96aa-48b7-be18-94fecf317045"
      },
      "outputs": [
        {
          "output_type": "stream",
          "name": "stdout",
          "text": [
            "1 ile 100 arasında bir sayı tuttum. Bakalım bulabilecek misin!\n",
            "Tahmininiz: 56\n",
            "Daha büyük bir sayı tahmin edin.\n",
            "Tahmininiz: 87\n",
            "Daha küçük bir sayı tahmin edin.\n",
            "Tahmininiz: 75\n",
            "Daha küçük bir sayı tahmin edin.\n",
            "Tahmininiz: 61\n",
            "Daha büyük bir sayı tahmin edin.\n",
            "Tahmininiz: 65\n",
            "Daha büyük bir sayı tahmin edin.\n",
            "Tahmininiz: 66\n",
            "Daha büyük bir sayı tahmin edin.\n",
            "Tahmininiz: 67\n",
            "Daha büyük bir sayı tahmin edin.\n",
            "Tahmininiz: 68\n",
            "Daha büyük bir sayı tahmin edin.\n",
            "Tahmininiz: 69\n",
            "Daha büyük bir sayı tahmin edin.\n",
            "Tahmininiz: 70\n",
            "Daha büyük bir sayı tahmin edin.\n",
            "Tahmininiz: 71\n",
            "Tebrikler! Doğru tahmin! Sayıyı 11 denemede buldunuz.\n"
          ]
        }
      ],
      "source": [
        "import random\n",
        "\n",
        "def sayi_tahmin_oyunu():\n",
        "    dogru_sayi = random.randint(1, 100)\n",
        "    tahmin_sayisi = 0\n",
        "\n",
        "    print(\"1 ile 100 arasında bir sayı tuttum. Bakalım bulabilecek misin!\")\n",
        "\n",
        "    while True:\n",
        "        tahmin = int(input(\"Tahmininiz: \"))\n",
        "        tahmin_sayisi += 1\n",
        "\n",
        "        if tahmin < dogru_sayi:\n",
        "            print(\"Daha büyük bir sayı tahmin edin.\")\n",
        "        elif tahmin > dogru_sayi:\n",
        "            print(\"Daha küçük bir sayı tahmin edin.\")\n",
        "        else:\n",
        "            print(f\"Tebrikler! Doğru tahmin! Sayıyı {tahmin_sayisi} denemede buldunuz.\")\n",
        "            break\n",
        "\n",
        "sayi_tahmin_oyunu()\n"
      ]
    }
  ]
}